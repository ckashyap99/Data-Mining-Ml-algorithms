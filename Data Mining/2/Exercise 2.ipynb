{
 "cells": [
  {
   "cell_type": "code",
   "execution_count": 1,
   "metadata": {
    "id": "HvxT_0DwiDFf"
   },
   "outputs": [],
   "source": [
    "import pandas as pd"
   ]
  },
  {
   "cell_type": "markdown",
   "metadata": {
    "id": "tAptDa-ZiLuw"
   },
   "source": [
    "Question 1:\n",
    "- the types of variables: 'UVA', 'US', 'PVR', 'PMU', 'CYM', 'PTR', 'MUC', 'SS',\n",
    "       'UVJ', 'SSY', 'CLU', 'DV', 'USY', 'AGE'\n",
    "\n",
    "UVA - binary - statistics: mode\n",
    "\n",
    "US - Low 0–6, high 7–20 Categorical --> statistics: median and means\n",
    "\n",
    "PVR - Categorical - statistics: median and mean\n",
    "\n",
    "PMU - Categorical - statistics: median and mean\n",
    "\n",
    "CYM - Binary - statistics:mode\n",
    "\n",
    "PTR - Categorical - statistics: median and mean\n",
    "\n",
    "MUCP -  Negative ≤0, positive >0 = Categorical - statistics: median and mean\n",
    "\n",
    "SS - binary - statistics: mode\n",
    "\n",
    "UVJ - binary - statistics: mode\n",
    "\n",
    "SSY  binary - statistics: mode\n",
    "\n",
    "CLU - binary - statistics: mode\n",
    "\n",
    "DV binary - statistics: mode\n",
    "\n",
    "USY- binary - statistics: mode\n",
    "\n",
    "Age - Nominal - statistics: mode\n",
    "\n",
    "How many different diagnoses the data contains?\n",
    "[0 1 2 3 4]\n",
    "\n",
    "5 diagnoses total\n",
    "\n",
    "\n",
    "The average age is 52.327586206896555 of all patients\n",
    "\n"
   ]
  },
  {
   "cell_type": "code",
   "execution_count": null,
   "metadata": {
    "id": "0pTw47tGiyuv"
   },
   "outputs": [],
   "source": [
    "df = pd.read_csv(\"D:/MS/Data Mining/1/inco13par.txt\", sep=\"\\t\")"
   ]
  },
  {
   "cell_type": "code",
   "execution_count": null,
   "metadata": {
    "colab": {
     "base_uri": "https://localhost:8080/",
     "height": 424
    },
    "id": "8DPvahwai_WA",
    "outputId": "921e3e71-d557-42c2-9041-66d78bb4729c"
   },
   "outputs": [
    {
     "data": {
      "text/html": [
       "\n",
       "  <div id=\"df-bf6d55f8-1de6-48c2-888d-bce39fdbe863\" class=\"colab-df-container\">\n",
       "    <div>\n",
       "<style scoped>\n",
       "    .dataframe tbody tr th:only-of-type {\n",
       "        vertical-align: middle;\n",
       "    }\n",
       "\n",
       "    .dataframe tbody tr th {\n",
       "        vertical-align: top;\n",
       "    }\n",
       "\n",
       "    .dataframe thead th {\n",
       "        text-align: right;\n",
       "    }\n",
       "</style>\n",
       "<table border=\"1\" class=\"dataframe\">\n",
       "  <thead>\n",
       "    <tr style=\"text-align: right;\">\n",
       "      <th></th>\n",
       "      <th>NO</th>\n",
       "      <th>DIAGNOSI</th>\n",
       "      <th>UVA</th>\n",
       "      <th>US</th>\n",
       "      <th>PVR</th>\n",
       "      <th>PMU</th>\n",
       "      <th>CYM</th>\n",
       "      <th>PTR</th>\n",
       "      <th>MUC</th>\n",
       "      <th>SS</th>\n",
       "      <th>UVJ</th>\n",
       "      <th>SSY</th>\n",
       "      <th>CLU</th>\n",
       "      <th>DV</th>\n",
       "      <th>USY</th>\n",
       "      <th>AGE</th>\n",
       "    </tr>\n",
       "  </thead>\n",
       "  <tbody>\n",
       "    <tr>\n",
       "      <th>0</th>\n",
       "      <td>2</td>\n",
       "      <td>0</td>\n",
       "      <td>0</td>\n",
       "      <td>8</td>\n",
       "      <td>1</td>\n",
       "      <td>0.05</td>\n",
       "      <td>0</td>\n",
       "      <td>68</td>\n",
       "      <td>0</td>\n",
       "      <td>0</td>\n",
       "      <td>1</td>\n",
       "      <td>1</td>\n",
       "      <td>0</td>\n",
       "      <td>0</td>\n",
       "      <td>1</td>\n",
       "      <td>62</td>\n",
       "    </tr>\n",
       "    <tr>\n",
       "      <th>1</th>\n",
       "      <td>3</td>\n",
       "      <td>0</td>\n",
       "      <td>0</td>\n",
       "      <td>4</td>\n",
       "      <td>30</td>\n",
       "      <td>0.2</td>\n",
       "      <td>0</td>\n",
       "      <td>72</td>\n",
       "      <td>-9</td>\n",
       "      <td>0</td>\n",
       "      <td></td>\n",
       "      <td>1</td>\n",
       "      <td>0</td>\n",
       "      <td>0</td>\n",
       "      <td>0</td>\n",
       "      <td>46</td>\n",
       "    </tr>\n",
       "    <tr>\n",
       "      <th>2</th>\n",
       "      <td>4</td>\n",
       "      <td>0</td>\n",
       "      <td>0</td>\n",
       "      <td>4</td>\n",
       "      <td>40</td>\n",
       "      <td>0.1</td>\n",
       "      <td>0</td>\n",
       "      <td>72</td>\n",
       "      <td>-4</td>\n",
       "      <td>1</td>\n",
       "      <td>1</td>\n",
       "      <td>1</td>\n",
       "      <td>0</td>\n",
       "      <td>0</td>\n",
       "      <td>0</td>\n",
       "      <td>84</td>\n",
       "    </tr>\n",
       "    <tr>\n",
       "      <th>3</th>\n",
       "      <td>5</td>\n",
       "      <td>0</td>\n",
       "      <td>0</td>\n",
       "      <td>11</td>\n",
       "      <td>60</td>\n",
       "      <td>0.15</td>\n",
       "      <td>0</td>\n",
       "      <td>71</td>\n",
       "      <td>-1</td>\n",
       "      <td>0</td>\n",
       "      <td></td>\n",
       "      <td>1</td>\n",
       "      <td>0</td>\n",
       "      <td>0</td>\n",
       "      <td>1</td>\n",
       "      <td>53</td>\n",
       "    </tr>\n",
       "    <tr>\n",
       "      <th>4</th>\n",
       "      <td>6</td>\n",
       "      <td>0</td>\n",
       "      <td>0</td>\n",
       "      <td>8</td>\n",
       "      <td>5</td>\n",
       "      <td></td>\n",
       "      <td>0</td>\n",
       "      <td></td>\n",
       "      <td>-14</td>\n",
       "      <td>1</td>\n",
       "      <td></td>\n",
       "      <td>1</td>\n",
       "      <td>0</td>\n",
       "      <td>0</td>\n",
       "      <td>0</td>\n",
       "      <td>46</td>\n",
       "    </tr>\n",
       "    <tr>\n",
       "      <th>...</th>\n",
       "      <td>...</td>\n",
       "      <td>...</td>\n",
       "      <td>...</td>\n",
       "      <td>...</td>\n",
       "      <td>...</td>\n",
       "      <td>...</td>\n",
       "      <td>...</td>\n",
       "      <td>...</td>\n",
       "      <td>...</td>\n",
       "      <td>...</td>\n",
       "      <td>...</td>\n",
       "      <td>...</td>\n",
       "      <td>...</td>\n",
       "      <td>...</td>\n",
       "      <td>...</td>\n",
       "      <td>...</td>\n",
       "    </tr>\n",
       "    <tr>\n",
       "      <th>524</th>\n",
       "      <td>421</td>\n",
       "      <td>4</td>\n",
       "      <td>0</td>\n",
       "      <td>2</td>\n",
       "      <td>3</td>\n",
       "      <td></td>\n",
       "      <td></td>\n",
       "      <td></td>\n",
       "      <td></td>\n",
       "      <td></td>\n",
       "      <td></td>\n",
       "      <td>0</td>\n",
       "      <td>0</td>\n",
       "      <td>0</td>\n",
       "      <td>0</td>\n",
       "      <td>41</td>\n",
       "    </tr>\n",
       "    <tr>\n",
       "      <th>525</th>\n",
       "      <td>455</td>\n",
       "      <td>4</td>\n",
       "      <td>0</td>\n",
       "      <td>1</td>\n",
       "      <td>15</td>\n",
       "      <td></td>\n",
       "      <td></td>\n",
       "      <td></td>\n",
       "      <td></td>\n",
       "      <td></td>\n",
       "      <td></td>\n",
       "      <td>0</td>\n",
       "      <td>0</td>\n",
       "      <td>0</td>\n",
       "      <td>0</td>\n",
       "      <td>64</td>\n",
       "    </tr>\n",
       "    <tr>\n",
       "      <th>526</th>\n",
       "      <td>466</td>\n",
       "      <td>4</td>\n",
       "      <td>0</td>\n",
       "      <td>3</td>\n",
       "      <td>12</td>\n",
       "      <td></td>\n",
       "      <td></td>\n",
       "      <td></td>\n",
       "      <td></td>\n",
       "      <td></td>\n",
       "      <td></td>\n",
       "      <td>0</td>\n",
       "      <td>0</td>\n",
       "      <td>0</td>\n",
       "      <td>0</td>\n",
       "      <td>63</td>\n",
       "    </tr>\n",
       "    <tr>\n",
       "      <th>527</th>\n",
       "      <td>472</td>\n",
       "      <td>4</td>\n",
       "      <td>0</td>\n",
       "      <td>1</td>\n",
       "      <td></td>\n",
       "      <td></td>\n",
       "      <td></td>\n",
       "      <td></td>\n",
       "      <td></td>\n",
       "      <td></td>\n",
       "      <td></td>\n",
       "      <td>0</td>\n",
       "      <td>0</td>\n",
       "      <td>0</td>\n",
       "      <td>0</td>\n",
       "      <td>57</td>\n",
       "    </tr>\n",
       "    <tr>\n",
       "      <th>528</th>\n",
       "      <td>473</td>\n",
       "      <td>4</td>\n",
       "      <td>0</td>\n",
       "      <td>1</td>\n",
       "      <td>2</td>\n",
       "      <td></td>\n",
       "      <td></td>\n",
       "      <td></td>\n",
       "      <td></td>\n",
       "      <td></td>\n",
       "      <td></td>\n",
       "      <td>0</td>\n",
       "      <td>0</td>\n",
       "      <td>0</td>\n",
       "      <td>0</td>\n",
       "      <td>54</td>\n",
       "    </tr>\n",
       "  </tbody>\n",
       "</table>\n",
       "<p>529 rows × 16 columns</p>\n",
       "</div>\n",
       "    <div class=\"colab-df-buttons\">\n",
       "\n",
       "  <div class=\"colab-df-container\">\n",
       "    <button class=\"colab-df-convert\" onclick=\"convertToInteractive('df-bf6d55f8-1de6-48c2-888d-bce39fdbe863')\"\n",
       "            title=\"Convert this dataframe to an interactive table.\"\n",
       "            style=\"display:none;\">\n",
       "\n",
       "  <svg xmlns=\"http://www.w3.org/2000/svg\" height=\"24px\" viewBox=\"0 -960 960 960\">\n",
       "    <path d=\"M120-120v-720h720v720H120Zm60-500h600v-160H180v160Zm220 220h160v-160H400v160Zm0 220h160v-160H400v160ZM180-400h160v-160H180v160Zm440 0h160v-160H620v160ZM180-180h160v-160H180v160Zm440 0h160v-160H620v160Z\"/>\n",
       "  </svg>\n",
       "    </button>\n",
       "\n",
       "  <style>\n",
       "    .colab-df-container {\n",
       "      display:flex;\n",
       "      gap: 12px;\n",
       "    }\n",
       "\n",
       "    .colab-df-convert {\n",
       "      background-color: #E8F0FE;\n",
       "      border: none;\n",
       "      border-radius: 50%;\n",
       "      cursor: pointer;\n",
       "      display: none;\n",
       "      fill: #1967D2;\n",
       "      height: 32px;\n",
       "      padding: 0 0 0 0;\n",
       "      width: 32px;\n",
       "    }\n",
       "\n",
       "    .colab-df-convert:hover {\n",
       "      background-color: #E2EBFA;\n",
       "      box-shadow: 0px 1px 2px rgba(60, 64, 67, 0.3), 0px 1px 3px 1px rgba(60, 64, 67, 0.15);\n",
       "      fill: #174EA6;\n",
       "    }\n",
       "\n",
       "    .colab-df-buttons div {\n",
       "      margin-bottom: 4px;\n",
       "    }\n",
       "\n",
       "    [theme=dark] .colab-df-convert {\n",
       "      background-color: #3B4455;\n",
       "      fill: #D2E3FC;\n",
       "    }\n",
       "\n",
       "    [theme=dark] .colab-df-convert:hover {\n",
       "      background-color: #434B5C;\n",
       "      box-shadow: 0px 1px 3px 1px rgba(0, 0, 0, 0.15);\n",
       "      filter: drop-shadow(0px 1px 2px rgba(0, 0, 0, 0.3));\n",
       "      fill: #FFFFFF;\n",
       "    }\n",
       "  </style>\n",
       "\n",
       "    <script>\n",
       "      const buttonEl =\n",
       "        document.querySelector('#df-bf6d55f8-1de6-48c2-888d-bce39fdbe863 button.colab-df-convert');\n",
       "      buttonEl.style.display =\n",
       "        google.colab.kernel.accessAllowed ? 'block' : 'none';\n",
       "\n",
       "      async function convertToInteractive(key) {\n",
       "        const element = document.querySelector('#df-bf6d55f8-1de6-48c2-888d-bce39fdbe863');\n",
       "        const dataTable =\n",
       "          await google.colab.kernel.invokeFunction('convertToInteractive',\n",
       "                                                    [key], {});\n",
       "        if (!dataTable) return;\n",
       "\n",
       "        const docLinkHtml = 'Like what you see? Visit the ' +\n",
       "          '<a target=\"_blank\" href=https://colab.research.google.com/notebooks/data_table.ipynb>data table notebook</a>'\n",
       "          + ' to learn more about interactive tables.';\n",
       "        element.innerHTML = '';\n",
       "        dataTable['output_type'] = 'display_data';\n",
       "        await google.colab.output.renderOutput(dataTable, element);\n",
       "        const docLink = document.createElement('div');\n",
       "        docLink.innerHTML = docLinkHtml;\n",
       "        element.appendChild(docLink);\n",
       "      }\n",
       "    </script>\n",
       "  </div>\n",
       "\n",
       "\n",
       "<div id=\"df-2be85365-7b0d-46d1-a719-d4fab0d1d3ef\">\n",
       "  <button class=\"colab-df-quickchart\" onclick=\"quickchart('df-2be85365-7b0d-46d1-a719-d4fab0d1d3ef')\"\n",
       "            title=\"Suggest charts.\"\n",
       "            style=\"display:none;\">\n",
       "\n",
       "<svg xmlns=\"http://www.w3.org/2000/svg\" height=\"24px\"viewBox=\"0 0 24 24\"\n",
       "     width=\"24px\">\n",
       "    <g>\n",
       "        <path d=\"M19 3H5c-1.1 0-2 .9-2 2v14c0 1.1.9 2 2 2h14c1.1 0 2-.9 2-2V5c0-1.1-.9-2-2-2zM9 17H7v-7h2v7zm4 0h-2V7h2v10zm4 0h-2v-4h2v4z\"/>\n",
       "    </g>\n",
       "</svg>\n",
       "  </button>\n",
       "\n",
       "<style>\n",
       "  .colab-df-quickchart {\n",
       "      --bg-color: #E8F0FE;\n",
       "      --fill-color: #1967D2;\n",
       "      --hover-bg-color: #E2EBFA;\n",
       "      --hover-fill-color: #174EA6;\n",
       "      --disabled-fill-color: #AAA;\n",
       "      --disabled-bg-color: #DDD;\n",
       "  }\n",
       "\n",
       "  [theme=dark] .colab-df-quickchart {\n",
       "      --bg-color: #3B4455;\n",
       "      --fill-color: #D2E3FC;\n",
       "      --hover-bg-color: #434B5C;\n",
       "      --hover-fill-color: #FFFFFF;\n",
       "      --disabled-bg-color: #3B4455;\n",
       "      --disabled-fill-color: #666;\n",
       "  }\n",
       "\n",
       "  .colab-df-quickchart {\n",
       "    background-color: var(--bg-color);\n",
       "    border: none;\n",
       "    border-radius: 50%;\n",
       "    cursor: pointer;\n",
       "    display: none;\n",
       "    fill: var(--fill-color);\n",
       "    height: 32px;\n",
       "    padding: 0;\n",
       "    width: 32px;\n",
       "  }\n",
       "\n",
       "  .colab-df-quickchart:hover {\n",
       "    background-color: var(--hover-bg-color);\n",
       "    box-shadow: 0 1px 2px rgba(60, 64, 67, 0.3), 0 1px 3px 1px rgba(60, 64, 67, 0.15);\n",
       "    fill: var(--button-hover-fill-color);\n",
       "  }\n",
       "\n",
       "  .colab-df-quickchart-complete:disabled,\n",
       "  .colab-df-quickchart-complete:disabled:hover {\n",
       "    background-color: var(--disabled-bg-color);\n",
       "    fill: var(--disabled-fill-color);\n",
       "    box-shadow: none;\n",
       "  }\n",
       "\n",
       "  .colab-df-spinner {\n",
       "    border: 2px solid var(--fill-color);\n",
       "    border-color: transparent;\n",
       "    border-bottom-color: var(--fill-color);\n",
       "    animation:\n",
       "      spin 1s steps(1) infinite;\n",
       "  }\n",
       "\n",
       "  @keyframes spin {\n",
       "    0% {\n",
       "      border-color: transparent;\n",
       "      border-bottom-color: var(--fill-color);\n",
       "      border-left-color: var(--fill-color);\n",
       "    }\n",
       "    20% {\n",
       "      border-color: transparent;\n",
       "      border-left-color: var(--fill-color);\n",
       "      border-top-color: var(--fill-color);\n",
       "    }\n",
       "    30% {\n",
       "      border-color: transparent;\n",
       "      border-left-color: var(--fill-color);\n",
       "      border-top-color: var(--fill-color);\n",
       "      border-right-color: var(--fill-color);\n",
       "    }\n",
       "    40% {\n",
       "      border-color: transparent;\n",
       "      border-right-color: var(--fill-color);\n",
       "      border-top-color: var(--fill-color);\n",
       "    }\n",
       "    60% {\n",
       "      border-color: transparent;\n",
       "      border-right-color: var(--fill-color);\n",
       "    }\n",
       "    80% {\n",
       "      border-color: transparent;\n",
       "      border-right-color: var(--fill-color);\n",
       "      border-bottom-color: var(--fill-color);\n",
       "    }\n",
       "    90% {\n",
       "      border-color: transparent;\n",
       "      border-bottom-color: var(--fill-color);\n",
       "    }\n",
       "  }\n",
       "</style>\n",
       "\n",
       "  <script>\n",
       "    async function quickchart(key) {\n",
       "      const quickchartButtonEl =\n",
       "        document.querySelector('#' + key + ' button');\n",
       "      quickchartButtonEl.disabled = true;  // To prevent multiple clicks.\n",
       "      quickchartButtonEl.classList.add('colab-df-spinner');\n",
       "      try {\n",
       "        const charts = await google.colab.kernel.invokeFunction(\n",
       "            'suggestCharts', [key], {});\n",
       "      } catch (error) {\n",
       "        console.error('Error during call to suggestCharts:', error);\n",
       "      }\n",
       "      quickchartButtonEl.classList.remove('colab-df-spinner');\n",
       "      quickchartButtonEl.classList.add('colab-df-quickchart-complete');\n",
       "    }\n",
       "    (() => {\n",
       "      let quickchartButtonEl =\n",
       "        document.querySelector('#df-2be85365-7b0d-46d1-a719-d4fab0d1d3ef button');\n",
       "      quickchartButtonEl.style.display =\n",
       "        google.colab.kernel.accessAllowed ? 'block' : 'none';\n",
       "    })();\n",
       "  </script>\n",
       "</div>\n",
       "    </div>\n",
       "  </div>\n"
      ],
      "text/plain": [
       "      NO  DIAGNOSI UVA  US PVR   PMU CYM PTR  MUC SS UVJ SSY  CLU  DV USY AGE\n",
       "0      2         0   0   8   1  0.05   0  68    0  0   1   1    0   0   1  62\n",
       "1      3         0   0   4  30   0.2   0  72   -9  0       1    0   0   0  46\n",
       "2      4         0   0   4  40   0.1   0  72   -4  1   1   1    0   0   0  84\n",
       "3      5         0   0  11  60  0.15   0  71   -1  0       1    0   0   1  53\n",
       "4      6         0   0   8   5         0      -14  1       1    0   0   0  46\n",
       "..   ...       ...  ..  ..  ..   ...  ..  ..  ... ..  ..  ..  ...  ..  ..  ..\n",
       "524  421         4   0   2   3                             0    0   0   0  41\n",
       "525  455         4   0   1  15                             0    0   0   0  64\n",
       "526  466         4   0   3  12                             0    0   0   0  63\n",
       "527  472         4   0   1                                 0    0   0   0  57\n",
       "528  473         4   0   1   2                             0    0   0   0  54\n",
       "\n",
       "[529 rows x 16 columns]"
      ]
     },
     "execution_count": 4,
     "metadata": {},
     "output_type": "execute_result"
    }
   ],
   "source": [
    "df"
   ]
  },
  {
   "cell_type": "code",
   "execution_count": null,
   "metadata": {
    "colab": {
     "base_uri": "https://localhost:8080/"
    },
    "id": "NoJ_muNDjwIE",
    "outputId": "638b59ab-4aa3-4290-aa49-aa721a33af93"
   },
   "outputs": [
    {
     "name": "stdout",
     "output_type": "stream",
     "text": [
      "Index(['NO', 'DIAGNOSI', 'UVA', 'US', 'PVR', 'PMU', 'CYM', 'PTR', 'MUC', 'SS',\n",
      "       'UVJ', 'SSY', 'CLU', 'DV', 'USY', 'AGE'],\n",
      "      dtype='object')\n"
     ]
    }
   ],
   "source": [
    "print(df.columns)"
   ]
  },
  {
   "cell_type": "code",
   "execution_count": null,
   "metadata": {
    "id": "7duqY4JQkSBB"
   },
   "outputs": [],
   "source": [
    "datatypes = df.dtypes"
   ]
  },
  {
   "cell_type": "code",
   "execution_count": null,
   "metadata": {
    "colab": {
     "base_uri": "https://localhost:8080/"
    },
    "id": "57BxXvivkTzf",
    "outputId": "980150b2-b6a0-42d8-bba2-e4c99982f530"
   },
   "outputs": [
    {
     "data": {
      "text/plain": [
       "NO           int64\n",
       "DIAGNOSI     int64\n",
       "UVA         object\n",
       "US          object\n",
       "PVR         object\n",
       "PMU         object\n",
       "CYM         object\n",
       "PTR         object\n",
       "MUC         object\n",
       "SS          object\n",
       "UVJ         object\n",
       "SSY         object\n",
       "CLU          int64\n",
       "DV           int64\n",
       "USY         object\n",
       "AGE         object\n",
       "dtype: object"
      ]
     },
     "execution_count": 7,
     "metadata": {},
     "output_type": "execute_result"
    }
   ],
   "source": [
    "datatypes"
   ]
  },
  {
   "cell_type": "code",
   "execution_count": null,
   "metadata": {
    "colab": {
     "base_uri": "https://localhost:8080/"
    },
    "id": "izwV8FxolFi9",
    "outputId": "5a5e61e3-9ac9-441c-d8e1-abf90256df46"
   },
   "outputs": [
    {
     "name": "stdout",
     "output_type": "stream",
     "text": [
      "Column NO\n",
      "[  2   3   4   5   6   8  10  11  13  14  15  16  17  19  21  24  25  26\n",
      "  27  29  33  34  37  38  46  48  49  50  51  53  55  57  59  60  62  66\n",
      "  72  73  77  78  79  80  81  84  87  88  91  92  95  96  97  98  99 100\n",
      " 101 102 103 104 106 108 109 111 113 114 116 118 123 124 130 132 133 135\n",
      " 139 140 142 143 144 145 146 149 151 153 154 155 156 157 159 160 161 162\n",
      " 163 164 165 171 173 175 176 177 178 179 180 181 182 184 187 189 190 191\n",
      " 192 193 194 195 196 197 198 199 200 202 204 205 206 207 208 209 210 212\n",
      " 215 216 217 218 219 220 222 223 224 225 230 232 233 235 236 238 241 243\n",
      " 244 245 246 247 248 254 255 256 257 258 259 260 261 262 263 265 266 267\n",
      " 270 274 275 276 277 279 280 281 283 284 285 286 287 290 291 292 293 296\n",
      " 301 304 305 306 308 309 310 314 315 318 321 326 328 329 331 332 334 336\n",
      " 337 340 341 342 343 345 348 350 355 356 357 361 362 363 364 366 367 369\n",
      " 372 373 374 376 378 380 382 383 386 387 389 390 391 395 396 397 398 400\n",
      " 402 406 409 413 414 415 416 417 418 420 422 423 425 426 428 429 432 433\n",
      " 434 436 437 438 439 440 442 443 444 446 447 448 451 452 454 457 458 459\n",
      " 460 461 462 464 465 468 470 471 474 475 476 477 478 482 495 506 510 523\n",
      " 527 549 572 573 589 614 625 650 652 665 669 670 683 685 687 688 692 697\n",
      " 702 703 704 705 707 708 709 710 711 712 716 717 718 719 720 721 723   1\n",
      "   7  20  23  30  36  39  41  43  54  56  70 107 115 119 120 125 128 131\n",
      " 134 136 137 138 147 152 158 166 167 169 170 185 188 211 214 226 228 231\n",
      " 234 237 239 250 272 273 289 294 300 303 307 311 316 344 360 379 392 401\n",
      " 410 411 412 424 427 430 431 441 445 449 453 456 463 467 469 483 490 492\n",
      " 494 496 498 501 512 513 520 522 528 531 532 534 535 536 537 539 542 544\n",
      " 551 552 553 554 555 561 564 567 574 583 585 586 595 599 601 603 604 605\n",
      " 608 609 615 618 620 622 623 626 627 634 640 644 647 648 651 653 656 664\n",
      " 668 671 673 676 677 680 691 694 696 701 713 714 722 105 186 229 299 327\n",
      " 381 408 486 491 505 525 548 556 562 563 565 579 580 587 610 611 616 619\n",
      " 628 629 632 637 642 655 672 674 678 699  22  90 110 365 487 489 516 533\n",
      " 593 621 639 646 659 695 727 269 338 339 347 354 358 370 375 384 388 393\n",
      " 404 419 421 455 466 472 473]\n",
      "Column DIAGNOSI\n",
      "[0 1 2 3 4]\n",
      "Column UVA\n",
      "['0' ' ' '1']\n",
      "Column US\n",
      "['8' '4' '11' ' ' '5' '6' '3' '14' '7' '10' '9' '18' '2' '1' '13' '0' '15'\n",
      " '12' '16']\n",
      "Column PVR\n",
      "['1' '30' '40' '60' '5' '80' '20' ' ' '10' '2' '100' '160' '75' '150' '50'\n",
      " '200' '45' '8' '25' '120' '31' '4' '16' '7' '44' '35' '110' '6' '3' '250'\n",
      " '130' '15' '43' '23' '105' '55' '70' '90' '18' '65' '180' '19' '140' '95'\n",
      " '9' '12']\n",
      "Column PMU\n",
      "['0.05' '0.2' '0.1' '0.15' ' ' '0.95' '0.4' '0.8' '0.3' '0.6' '0.5' '0.7'\n",
      " '0.9']\n",
      "Column CYM\n",
      "['0' ' ' '1']\n",
      "Column PTR\n",
      "['68' '72' '71' ' ' '57' '27' '102' '82' '48' '86' '62' '80' '64' '81'\n",
      " '52' '21' '98' '63' '79' '50' '94' '89' '56' '69' '93' '78' '60' '70'\n",
      " '119' '75' '91' '73' '61' '95' '88' '83' '90' '84' '40' '85' '76' '109'\n",
      " '67' '87' '55' '65' '74' '66' '58' '142' '47' '51' '45' '17' '53' '46'\n",
      " '92' '49' '36' '104' '103' '32' '124' '31' '100' '54' '139' '59' '16'\n",
      " '105' '77' '20' '35' '28' '38' '34' '33' '99' '96' '128']\n",
      "Column MUC\n",
      "['0' '-9' '-4' '-1' '-14' '-11' ' ' '-17' '-8' '-19' '-24' '-12' '16' '-2'\n",
      " '-26' '-27' '-22' '14' '-3' '-23' '4' '6' '10' '-20' '-5' '-31' '-25'\n",
      " '-15' '25' '-7' '2' '38' '-16' '11' '-6' '24' '1' '-55' '-10' '-13' '-39'\n",
      " '-37' '-49' '21' '-47' '-18' '-28' '33' '8' '-40' '-32' '-48' '-45' '-36'\n",
      " '-52' '-54' '-33' '-35' '32' '-38' '-30' '13' '12' '20' '-34' '9' '5' '3'\n",
      " '-21' '19' '-29' '-43' '29' '22' '30' '34' '7' '23']\n",
      "Column SS\n",
      "['0' '1' ' ']\n",
      "Column UVJ\n",
      "['1' ' ' '0']\n",
      "Column SSY\n",
      "['1' ' ' '0']\n",
      "Column CLU\n",
      "[0 1]\n",
      "Column DV\n",
      "[0 1]\n",
      "Column USY\n",
      "['1' '0' ' ']\n",
      "Column AGE\n",
      "['62' '46' '84' '53' '73' '63' '60' '40' '55' '67' '59' '48' '44' '27'\n",
      " '51' '45' '41' '50' '33' ' ' '57' '47' '37' '54' '65' '42' '64' '43' '36'\n",
      " '58' '32' '34' '49' '39' '72' '66' '38' '31' '35' '56' '30' '70' '69'\n",
      " '61' '52' '74' '79' '68' '86' '75' '71' '76' '78' '81' '26' '89' '77'\n",
      " '29' '28']\n"
     ]
    }
   ],
   "source": [
    "for variable in df.columns:\n",
    "    print(f\"Column {variable}\")\n",
    "    print(df[variable].unique())"
   ]
  },
  {
   "cell_type": "code",
   "execution_count": null,
   "metadata": {
    "colab": {
     "base_uri": "https://localhost:8080/"
    },
    "id": "wqApLnHrlFdO",
    "outputId": "ec9f8e7b-5119-4dcb-d64c-a44c6529709f"
   },
   "outputs": [
    {
     "data": {
      "text/plain": [
       "False"
      ]
     },
     "execution_count": 9,
     "metadata": {},
     "output_type": "execute_result"
    }
   ],
   "source": [
    "df['AGE'].isna().any()"
   ]
  },
  {
   "cell_type": "code",
   "execution_count": null,
   "metadata": {
    "id": "1IBc_sCFn28E"
   },
   "outputs": [],
   "source": [
    "AGE_COLUMN = pd.to_numeric(df['AGE'], errors='coerce')"
   ]
  },
  {
   "cell_type": "code",
   "execution_count": null,
   "metadata": {
    "colab": {
     "base_uri": "https://localhost:8080/"
    },
    "id": "YM_D2lPboP7s",
    "outputId": "f42a59dd-40cc-454b-81a8-69fe04db44e6"
   },
   "outputs": [
    {
     "name": "stdout",
     "output_type": "stream",
     "text": [
      "52.327586206896555\n"
     ]
    }
   ],
   "source": [
    "print(AGE_COLUMN.mean())"
   ]
  },
  {
   "cell_type": "markdown",
   "metadata": {
    "id": "E78293zNoX7G"
   },
   "source": [
    "Question 2:\n",
    "We find that only AGE has missing values so we group by the data by DIAGNOSI now missing values are replaced according to groups of DIAGNOSI"
   ]
  },
  {
   "cell_type": "code",
   "execution_count": null,
   "metadata": {
    "colab": {
     "base_uri": "https://localhost:8080/"
    },
    "id": "q9-_WvZCpGb2",
    "outputId": "902c4785-76f7-4267-a94a-e9bf58567abe"
   },
   "outputs": [
    {
     "name": "stdout",
     "output_type": "stream",
     "text": [
      "Column NO, has missing values: False\n",
      "Column DIAGNOSI, has missing values: False\n",
      "Column UVA, has missing values: False\n",
      "Column US, has missing values: False\n",
      "Column PVR, has missing values: False\n",
      "Column PMU, has missing values: False\n",
      "Column CYM, has missing values: False\n",
      "Column PTR, has missing values: False\n",
      "Column MUC, has missing values: False\n",
      "Column SS, has missing values: False\n",
      "Column UVJ, has missing values: False\n",
      "Column SSY, has missing values: False\n",
      "Column CLU, has missing values: False\n",
      "Column DV, has missing values: False\n",
      "Column USY, has missing values: False\n",
      "Column AGE, has missing values: False\n"
     ]
    }
   ],
   "source": [
    "for columns in df.columns:\n",
    "    print(f'Column {columns}, has missing values: {df[columns].isna().any()}')"
   ]
  },
  {
   "cell_type": "code",
   "execution_count": null,
   "metadata": {
    "colab": {
     "base_uri": "https://localhost:8080/"
    },
    "id": "uUMNVLU5pdWC",
    "outputId": "e0de73c1-51ce-45aa-faf5-b4195d0f671a"
   },
   "outputs": [
    {
     "data": {
      "text/plain": [
       "array(['62', '46', '84', '53', '73', '63', '60', '40', '55', '67', '59',\n",
       "       '48', '44', '27', '51', '45', '41', '50', '33', ' ', '57', '47',\n",
       "       '37', '54', '65', '42', '64', '43', '36', '58', '32', '34', '49',\n",
       "       '39', '72', '66', '38', '31', '35', '56', '30', '70', '69', '61',\n",
       "       '52', '74', '79', '68', '86', '75', '71', '76', '78', '81', '26',\n",
       "       '89', '77', '29', '28'], dtype=object)"
      ]
     },
     "execution_count": 13,
     "metadata": {},
     "output_type": "execute_result"
    }
   ],
   "source": [
    "df['AGE'].unique()"
   ]
  },
  {
   "cell_type": "code",
   "execution_count": null,
   "metadata": {
    "id": "aOrkIFqhshdN"
   },
   "outputs": [],
   "source": [
    "df['AGE'] = pd.to_numeric(df['AGE'], errors='coerce')"
   ]
  },
  {
   "cell_type": "code",
   "execution_count": null,
   "metadata": {
    "colab": {
     "base_uri": "https://localhost:8080/"
    },
    "id": "5VR9fo6dtKEy",
    "outputId": "37aa3b90-eb42-4de7-c268-5e708239600d"
   },
   "outputs": [
    {
     "data": {
      "text/plain": [
       "True"
      ]
     },
     "execution_count": 15,
     "metadata": {},
     "output_type": "execute_result"
    }
   ],
   "source": [
    "df['AGE'].isna().any()"
   ]
  },
  {
   "cell_type": "code",
   "execution_count": null,
   "metadata": {
    "colab": {
     "base_uri": "https://localhost:8080/"
    },
    "id": "nB2qZchJrIeV",
    "outputId": "d7017ff5-52fe-4fb3-8021-3665233689c0"
   },
   "outputs": [
    {
     "data": {
      "text/plain": [
       "DIAGNOSI\n",
       "0    50.444795\n",
       "1    55.014388\n",
       "2    55.545455\n",
       "3    58.200000\n",
       "4    53.944444\n",
       "Name: AGE, dtype: float64"
      ]
     },
     "execution_count": 16,
     "metadata": {},
     "output_type": "execute_result"
    }
   ],
   "source": [
    "df.groupby(['DIAGNOSI'])['AGE'].mean()\n"
   ]
  },
  {
   "cell_type": "code",
   "execution_count": null,
   "metadata": {
    "id": "9Rlv9Vr3rs4J"
   },
   "outputs": [],
   "source": [
    "df[\"AGE\"] = df.groupby(\"DIAGNOSI\")['AGE'].transform(lambda x: x.fillna(x.mean()))\n"
   ]
  },
  {
   "cell_type": "code",
   "execution_count": null,
   "metadata": {
    "colab": {
     "base_uri": "https://localhost:8080/"
    },
    "id": "GdSTYMt8s36X",
    "outputId": "83505f4b-34c0-43b9-e668-c526b5d6ccd5"
   },
   "outputs": [
    {
     "data": {
      "text/plain": [
       "False"
      ]
     },
     "execution_count": 18,
     "metadata": {},
     "output_type": "execute_result"
    }
   ],
   "source": [
    "df['AGE'].isna().any()"
   ]
  },
  {
   "cell_type": "markdown",
   "metadata": {
    "id": "TIf3r_7Mtc_r"
   },
   "source": [
    "Question 3: Box plot for UVA, US, CYM and PTR\n",
    "Histogram for Age\n",
    "\n",
    "What can you say about age distribution over all cases in the data?\n",
    "\n",
    "0 and 1 looks Normal\n",
    "2, 3, and 4 looks left skew"
   ]
  },
  {
   "cell_type": "code",
   "execution_count": null,
   "metadata": {
    "id": "cY-ZgtQ1tn1X"
   },
   "outputs": [],
   "source": [
    "import matplotlib.pyplot as plt\n",
    "import numpy as np"
   ]
  },
  {
   "cell_type": "code",
   "execution_count": null,
   "metadata": {
    "colab": {
     "base_uri": "https://localhost:8080/",
     "height": 452
    },
    "id": "f4wLjSKDtzwJ",
    "outputId": "0ceebaff-edbc-4368-b1d1-316cd09ea0ce"
   },
   "outputs": [
    {
     "data": {
      "image/png": "[encoded data removed]",
      "text/plain": [
       "<Figure size 640x480 with 1 Axes>"
      ]
     },
     "metadata": {},
     "output_type": "display_data"
    }
   ],
   "source": [
    "# Creating plot\n",
    "df['UVA'] = pd.to_numeric(df['UVA'], errors='coerce')\n",
    "plt.boxplot(df['UVA'].dropna())\n",
    "# show plot\n",
    "plt.title('UVA')\n",
    "plt.show()\n",
    "\n"
   ]
  },
  {
   "cell_type": "code",
   "execution_count": null,
   "metadata": {
    "colab": {
     "base_uri": "https://localhost:8080/",
     "height": 452
    },
    "id": "VbeKB45hvkWp",
    "outputId": "ec321e86-c335-4822-8d2b-3a2a34845bc6"
   },
   "outputs": [
    {
     "data": {
      "image/png": "[encoded data removed]",
      "text/plain": [
       "<Figure size 640x480 with 1 Axes>"
      ]
     },
     "metadata": {},
     "output_type": "display_data"
    }
   ],
   "source": [
    "# Creating plot\n",
    "df['US'] = pd.to_numeric(df['US'], errors='coerce')\n",
    "plt.boxplot(df['US'].dropna())\n",
    "# show plot\n",
    "plt.title('US')\n",
    "plt.show()\n",
    "\n"
   ]
  },
  {
   "cell_type": "code",
   "execution_count": null,
   "metadata": {
    "colab": {
     "base_uri": "https://localhost:8080/",
     "height": 452
    },
    "id": "hYDpcu1YvtsZ",
    "outputId": "d3587380-54a9-4159-a1aa-b0283411c4d7"
   },
   "outputs": [
    {
     "data": {
      "image/png": "[encoded data removed]",
      "text/plain": [
       "<Figure size 640x480 with 1 Axes>"
      ]
     },
     "metadata": {},
     "output_type": "display_data"
    }
   ],
   "source": [
    "# Creating plot\n",
    "df['CYM'] = pd.to_numeric(df['CYM'], errors='coerce')\n",
    "plt.boxplot(df['CYM'].dropna())\n",
    "# show plot\n",
    "plt.title('CYM')\n",
    "plt.show()"
   ]
  },
  {
   "cell_type": "code",
   "execution_count": null,
   "metadata": {
    "colab": {
     "base_uri": "https://localhost:8080/",
     "height": 452
    },
    "id": "-dSP8qDnv21l",
    "outputId": "87bce9e8-adbc-453c-9f92-58df12c32abd"
   },
   "outputs": [
    {
     "data": {
      "image/png": "[encoded data removed]",
      "text/plain": [
       "<Figure size 640x480 with 1 Axes>"
      ]
     },
     "metadata": {},
     "output_type": "display_data"
    }
   ],
   "source": [
    "# Creating plot\n",
    "df['PTR'] = pd.to_numeric(df['PTR'], errors='coerce')\n",
    "plt.boxplot(df['PTR'].dropna())\n",
    "# show plot\n",
    "plt.title('PTR')\n",
    "plt.show()"
   ]
  },
  {
   "cell_type": "code",
   "execution_count": null,
   "metadata": {
    "colab": {
     "base_uri": "https://localhost:8080/",
     "height": 498
    },
    "id": "vPNc4mkOwBge",
    "outputId": "a58f7c56-6844-401e-8e84-43a761606180"
   },
   "outputs": [
    {
     "data": {
      "text/plain": [
       "array([[<Axes: title={'center': '0'}>, <Axes: title={'center': '1'}>],\n",
       "       [<Axes: title={'center': '2'}>, <Axes: title={'center': '3'}>],\n",
       "       [<Axes: title={'center': '4'}>, <Axes: >]], dtype=object)"
      ]
     },
     "execution_count": 24,
     "metadata": {},
     "output_type": "execute_result"
    },
    {
     "data": {
      "image/png": "[encoded data removed]",
      "text/plain": [
       "<Figure size 640x480 with 6 Axes>"
      ]
     },
     "metadata": {},
     "output_type": "display_data"
    }
   ],
   "source": [
    "df.hist(by=\"DIAGNOSI\", column='AGE')"
   ]
  },
  {
   "cell_type": "markdown",
   "metadata": {
    "id": "oqEG26Z9xNyv"
   },
   "source": [
    "Question 4:\n",
    "\n",
    "*row 2 and 269: 8.0, row 2 and 393: 2.0, and row 269-393: 6.0*\n",
    "\n",
    "So it seems that row 2 and row 393 are the closest in terms of distance\n",
    "\n",
    "\n",
    "What kind of problems you may encounter when you use Euclidean distance measure?\n",
    "if the data is not metric then it might not perform well\n",
    "\n",
    "In addition to Euclidean distance, there are plenty of others. What other distance measures you have heard of?\n",
    "\n",
    "Manhattan or Block city (or Hamming) distance,\n",
    "Tshebyschev distance, Minkowski distances, Mahalanobis distance"
   ]
  },
  {
   "cell_type": "code",
   "execution_count": null,
   "metadata": {
    "id": "OZ2-09o21x7g"
   },
   "outputs": [],
   "source": [
    "row_2_age = df.iloc[1]['AGE']\n",
    "row_269_age = df.iloc[268]['AGE']\n",
    "row_393_age = df.iloc[392]['AGE']"
   ]
  },
  {
   "cell_type": "code",
   "execution_count": null,
   "metadata": {
    "id": "v0On6WGH20tV"
   },
   "outputs": [],
   "source": [
    "import math"
   ]
  },
  {
   "cell_type": "code",
   "execution_count": null,
   "metadata": {
    "id": "EtjRJEQf2A6X"
   },
   "outputs": [],
   "source": [
    "distance_1 = math.sqrt((row_2_age-row_269_age)**2)\n",
    "distance_2 = math.sqrt((row_2_age-row_393_age)**2)\n",
    "distance_3 = math.sqrt((row_269_age-row_393_age)**2)"
   ]
  },
  {
   "cell_type": "code",
   "execution_count": null,
   "metadata": {
    "colab": {
     "base_uri": "https://localhost:8080/"
    },
    "id": "FGetqqzf2k0t",
    "outputId": "df47b5bc-0a8f-4ecb-a57c-9beba0560c84"
   },
   "outputs": [
    {
     "name": "stdout",
     "output_type": "stream",
     "text": [
      "row 2 and 269: 8.0, row 2 and 393: 2.0, and row 269-393: 6.0\n"
     ]
    }
   ],
   "source": [
    "print(f'row 2 and 269: {distance_1}, row 2 and 393: {distance_2}, and row 269-393: {distance_3}')"
   ]
  }
 ],
 "metadata": {
  "colab": {
   "provenance": []
  },
  "kernelspec": {
   "display_name": "Python 3 (ipykernel)",
   "language": "python",
   "name": "python3"
  },
  "language_info": {
   "codemirror_mode": {
    "name": "ipython",
    "version": 3
   },
   "file_extension": ".py",
   "mimetype": "text/x-python",
   "name": "python",
   "nbconvert_exporter": "python",
   "pygments_lexer": "ipython3",
   "version": "3.11.5"
  }
 },
 "nbformat": 4,
 "nbformat_minor": 1
}
