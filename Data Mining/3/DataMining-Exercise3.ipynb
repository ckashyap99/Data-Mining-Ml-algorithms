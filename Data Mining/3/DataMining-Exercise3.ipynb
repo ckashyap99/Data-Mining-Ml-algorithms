{
 "cells": [
  {
   "cell_type": "markdown",
   "id": "479f98f8",
   "metadata": {},
   "source": [
    "Question 1"
   ]
  },
  {
   "cell_type": "code",
   "execution_count": 1,
   "id": "11a229bb",
   "metadata": {},
   "outputs": [],
   "source": [
    "import pandas as pd\n",
    "\n",
    "df = pd.read_excel(\"D:/MS/Data Mining/3/bloodp.xlsx\")\n",
    "\n",
    "#Replace Zero and Missing Values with Mean:\n",
    "df['sbp'].replace(0, df['sbp'].mean(), inplace=True)\n",
    "df['dbp'].replace(0, df['dbp'].mean(), inplace=True)\n",
    "df['sbp'].fillna(df['sbp'].mean(), inplace=True)\n",
    "df['dbp'].fillna(df['dbp'].mean(), inplace=True)\n"
   ]
  },
  {
   "cell_type": "code",
   "execution_count": 2,
   "id": "983b2636",
   "metadata": {},
   "outputs": [
    {
     "data": {
      "text/html": [
       "<div>\n",
       "<style scoped>\n",
       "    .dataframe tbody tr th:only-of-type {\n",
       "        vertical-align: middle;\n",
       "    }\n",
       "\n",
       "    .dataframe tbody tr th {\n",
       "        vertical-align: top;\n",
       "    }\n",
       "\n",
       "    .dataframe thead th {\n",
       "        text-align: right;\n",
       "    }\n",
       "</style>\n",
       "<table border=\"1\" class=\"dataframe\">\n",
       "  <thead>\n",
       "    <tr style=\"text-align: right;\">\n",
       "      <th></th>\n",
       "      <th>sbp</th>\n",
       "      <th>dbp</th>\n",
       "    </tr>\n",
       "  </thead>\n",
       "  <tbody>\n",
       "    <tr>\n",
       "      <th>0</th>\n",
       "      <td>132.426204</td>\n",
       "      <td>75.140528</td>\n",
       "    </tr>\n",
       "    <tr>\n",
       "      <th>1</th>\n",
       "      <td>132.426204</td>\n",
       "      <td>75.140528</td>\n",
       "    </tr>\n",
       "    <tr>\n",
       "      <th>2</th>\n",
       "      <td>132.426204</td>\n",
       "      <td>75.140528</td>\n",
       "    </tr>\n",
       "    <tr>\n",
       "      <th>3</th>\n",
       "      <td>132.426204</td>\n",
       "      <td>75.140528</td>\n",
       "    </tr>\n",
       "    <tr>\n",
       "      <th>4</th>\n",
       "      <td>132.426204</td>\n",
       "      <td>75.140528</td>\n",
       "    </tr>\n",
       "  </tbody>\n",
       "</table>\n",
       "</div>"
      ],
      "text/plain": [
       "          sbp        dbp\n",
       "0  132.426204  75.140528\n",
       "1  132.426204  75.140528\n",
       "2  132.426204  75.140528\n",
       "3  132.426204  75.140528\n",
       "4  132.426204  75.140528"
      ]
     },
     "execution_count": 2,
     "metadata": {},
     "output_type": "execute_result"
    }
   ],
   "source": [
    "df.head()"
   ]
  },
  {
   "cell_type": "code",
   "execution_count": 3,
   "id": "d70da674",
   "metadata": {},
   "outputs": [],
   "source": [
    "#Correct Erroneous Values:\n",
    "df['sbp'] = df['sbp'].apply(lambda x: x * 10 if x < 80 else x)\n",
    "df['dbp'] = df['dbp'].apply(lambda x: x * 10 if x < 40 else x)\n"
   ]
  },
  {
   "cell_type": "code",
   "execution_count": 5,
   "id": "e6bbaff8",
   "metadata": {},
   "outputs": [],
   "source": [
    "#Remove Impossible Values:\n",
    "df = df[(df['sbp'] <= 300) & (df['dbp'] <= 160)]"
   ]
  },
  {
   "cell_type": "code",
   "execution_count": 6,
   "id": "37a3135b",
   "metadata": {},
   "outputs": [],
   "source": [
    "#Save the Cleaned Data:\n",
    "df.to_excel(\"D:/MS/Data Mining/3/cleaned_bloodp.xlsx\", index=False)"
   ]
  },
  {
   "cell_type": "markdown",
   "id": "b1ac600f",
   "metadata": {},
   "source": [
    "Question 2"
   ]
  },
  {
   "cell_type": "code",
   "execution_count": 7,
   "id": "677377d6",
   "metadata": {},
   "outputs": [],
   "source": [
    "import numpy as np\n",
    "\n",
    "# Assuming df is your DataFrame from Task 1\n",
    "O = np.column_stack((np.ones_like(df['sbp']), df['sbp'], df['dbp']))"
   ]
  },
  {
   "cell_type": "code",
   "execution_count": 8,
   "id": "7cddd51a",
   "metadata": {},
   "outputs": [],
   "source": [
    "y = df['dbp'].values\n",
    "X = np.column_stack((np.ones_like(df['sbp']), df['sbp']))"
   ]
  },
  {
   "cell_type": "code",
   "execution_count": 9,
   "id": "3a84269f",
   "metadata": {},
   "outputs": [],
   "source": [
    "# Using the formula b = (X^T * X)^(-1) * X^T * y\n",
    "coefficients = np.linalg.inv(X.T @ X) @ X.T @ y"
   ]
  },
  {
   "cell_type": "code",
   "execution_count": 10,
   "id": "9b3d5684",
   "metadata": {},
   "outputs": [
    {
     "name": "stdout",
     "output_type": "stream",
     "text": [
      "[38.43171163  0.32123727]\n"
     ]
    }
   ],
   "source": [
    "print(coefficients)"
   ]
  },
  {
   "cell_type": "markdown",
   "id": "1eb8696a",
   "metadata": {},
   "source": [
    "Question 3"
   ]
  },
  {
   "cell_type": "code",
   "execution_count": 11,
   "id": "0a6a9eba",
   "metadata": {},
   "outputs": [
    {
     "name": "stdout",
     "output_type": "stream",
     "text": [
      "Cosine Distance between Reference Document and Document 1: 0.33763241404943267\n",
      "Cosine Distance between Reference Document and Document 2: 0.05993839763966191\n"
     ]
    }
   ],
   "source": [
    "# Reference document\n",
    "Fo = np.array([15, 7, 6, 11, 4])\n",
    "Nw = 500\n",
    "normalized_reference = Fo / Nw\n",
    "\n",
    "# Document 1\n",
    "Fo1 = np.array([1, 4, 3, 3, 6])\n",
    "Nw1 = 200\n",
    "normalized_doc1 = Fo1 / Nw1\n",
    "\n",
    "# Document 2\n",
    "Fo2 = np.array([20, 1, 5, 16, 9])\n",
    "Nw2 = 210\n",
    "normalized_doc2 = Fo2 / Nw2\n",
    "\n",
    "# Calculate dot products\n",
    "dot_product_ref_doc1 = np.dot(normalized_reference, normalized_doc1)\n",
    "dot_product_ref_doc2 = np.dot(normalized_reference, normalized_doc2)\n",
    "\n",
    "# Calculate cosine distances\n",
    "cosine_distance_doc1 = 1 - dot_product_ref_doc1 / (np.linalg.norm(normalized_reference) * np.linalg.norm(normalized_doc1))\n",
    "cosine_distance_doc2 = 1 - dot_product_ref_doc2 / (np.linalg.norm(normalized_reference) * np.linalg.norm(normalized_doc2))\n",
    "\n",
    "print(\"Cosine Distance between Reference Document and Document 1:\", cosine_distance_doc1)\n",
    "print(\"Cosine Distance between Reference Document and Document 2:\", cosine_distance_doc2)\n"
   ]
  },
  {
   "cell_type": "markdown",
   "id": "e55679f4",
   "metadata": {},
   "source": [
    "Question 4"
   ]
  },
  {
   "cell_type": "code",
   "execution_count": 19,
   "id": "10ec4fb6",
   "metadata": {},
   "outputs": [
    {
     "name": "stdout",
     "output_type": "stream",
     "text": [
      "Nearest Neighbor:\n",
      " Temperature                     25.27000\n",
      "Humidity                        23.52000\n",
      "Wind Speed                       4.92000\n",
      "general diffuse flows          207.30000\n",
      "diffuse flows                  230.70000\n",
      "Zone 1 Power Consumption     34169.70492\n",
      "Zone 2  Power Consumption    21299.07121\n",
      "Zone 3  Power Consumption    18037.89474\n",
      "Name: 17968, dtype: float64\n"
     ]
    }
   ],
   "source": [
    "file_path = 'D:/MS/Data Mining/3/tcpc.csv'\n",
    "\n",
    "# Load the CSV file into a DataFrame\n",
    "df = pd.read_csv(file_path)\n",
    "# Print the columns to identify the correct column name\n",
    "#print(\"Columns:\", df.columns)\n",
    "\n",
    "\n",
    "# Drop the \"DateTime\" column\n",
    "df = df.drop(columns=['DateTime'])\n",
    "\n",
    "# Handle missing values\n",
    "df.fillna(df.mean(), inplace=True)\n",
    "\n",
    "# Convert non-numeric values to numeric\n",
    "df = df.apply(pd.to_numeric, errors='coerce')\n",
    "\n",
    "# Binarize the variables based on mean\n",
    "mean_values = df.mean()\n",
    "binary_df = (df < mean_values).astype(int)\n",
    "\n",
    "# Define the sample\n",
    "s = [0, 1, 0, 0, 0, 0, 0, 0]\n",
    "\n",
    "# Calculate Hamming distance\n",
    "hamming_distances = (binary_df != s).sum(axis=1)\n",
    "\n",
    "# Find the index of the nearest neighbor\n",
    "nearest_neighbor_index = hamming_distances.idxmin()\n",
    "\n",
    "# Display the nearest neighbor\n",
    "nearest_neighbor = df.loc[nearest_neighbor_index]\n",
    "print(\"Nearest Neighbor:\\n\", nearest_neighbor)\n"
   ]
  },
  {
   "cell_type": "markdown",
   "id": "6800f017",
   "metadata": {},
   "source": [
    "Question 5"
   ]
  },
  {
   "cell_type": "code",
   "execution_count": 23,
   "id": "9ae8819d",
   "metadata": {},
   "outputs": [
    {
     "name": "stdout",
     "output_type": "stream",
     "text": [
      "\n",
      "Variable with the Highest Average Correlation:\n",
      "Variable: Temperature\n",
      "Average Correlation: 1.0\n"
     ]
    }
   ],
   "source": [
    "from sklearn.metrics import jaccard_score\n",
    "\n",
    "# Calculate Jaccard similarity matrix\n",
    "jaccard_matrix = pd.DataFrame(index=binary_df.columns, columns=binary_df.columns)\n",
    "\n",
    "for col1 in binary_df.columns:\n",
    "    for col2 in binary_df.columns:\n",
    "        jaccard_matrix.loc[col1, col2] = jaccard_score(binary_df[col1], binary_df[col2])\n",
    "\n",
    "# Convert the Jaccard matrix to numeric format\n",
    "jaccard_matrix_numeric = pd.to_numeric(jaccard_matrix.stack())\n",
    "\n",
    "# Find the variable with the highest average correlation\n",
    "max_correlation_variable = jaccard_matrix_numeric.idxmax()\n",
    "max_correlation_value = jaccard_matrix_numeric.max()\n",
    "\n",
    "print(\"\\nVariable with the Highest Average Correlation:\")\n",
    "print(f\"Variable: {max_correlation_variable[1]}\")\n",
    "print(f\"Average Correlation: {max_correlation_value}\")\n"
   ]
  },
  {
   "cell_type": "code",
   "execution_count": 22,
   "id": "44b5745d",
   "metadata": {},
   "outputs": [
    {
     "name": "stdout",
     "output_type": "stream",
     "text": [
      "                           Temperature  Humidity  Wind Speed  \\\n",
      "Temperature                   1.000000 -0.218646    0.407768   \n",
      "Humidity                     -0.218646  1.000000   -0.085061   \n",
      "Wind Speed                    0.407768 -0.085061    1.000000   \n",
      "general diffuse flows         0.290883 -0.350557    0.107714   \n",
      "diffuse flows                 0.192855 -0.208191    0.035002   \n",
      "Zone 1 Power Consumption      0.274828 -0.209539    0.110061   \n",
      "Zone 2  Power Consumption     0.266195 -0.196374    0.123346   \n",
      "Zone 3  Power Consumption     0.331468 -0.106345    0.219788   \n",
      "\n",
      "                           general diffuse flows  diffuse flows  \\\n",
      "Temperature                             0.290883       0.192855   \n",
      "Humidity                               -0.350557      -0.208191   \n",
      "Wind Speed                              0.107714       0.035002   \n",
      "general diffuse flows                   1.000000       0.625593   \n",
      "diffuse flows                           0.625593       1.000000   \n",
      "Zone 1 Power Consumption                0.215075       0.183767   \n",
      "Zone 2  Power Consumption               0.171085       0.112081   \n",
      "Zone 3  Power Consumption              -0.020133      -0.021571   \n",
      "\n",
      "                           Zone 1 Power Consumption  \\\n",
      "Temperature                                0.274828   \n",
      "Humidity                                  -0.209539   \n",
      "Wind Speed                                 0.110061   \n",
      "general diffuse flows                      0.215075   \n",
      "diffuse flows                              0.183767   \n",
      "Zone 1 Power Consumption                   1.000000   \n",
      "Zone 2  Power Consumption                  0.646698   \n",
      "Zone 3  Power Consumption                  0.516625   \n",
      "\n",
      "                           Zone 2  Power Consumption  \\\n",
      "Temperature                                 0.266195   \n",
      "Humidity                                   -0.196374   \n",
      "Wind Speed                                  0.123346   \n",
      "general diffuse flows                       0.171085   \n",
      "diffuse flows                               0.112081   \n",
      "Zone 1 Power Consumption                    0.646698   \n",
      "Zone 2  Power Consumption                   1.000000   \n",
      "Zone 3  Power Consumption                   0.420360   \n",
      "\n",
      "                           Zone 3  Power Consumption  \n",
      "Temperature                                 0.331468  \n",
      "Humidity                                   -0.106345  \n",
      "Wind Speed                                  0.219788  \n",
      "general diffuse flows                      -0.020133  \n",
      "diffuse flows                              -0.021571  \n",
      "Zone 1 Power Consumption                    0.516625  \n",
      "Zone 2  Power Consumption                   0.420360  \n",
      "Zone 3  Power Consumption                   1.000000  \n"
     ]
    }
   ],
   "source": [
    "print(binary_df.corr())"
   ]
  },
  {
   "cell_type": "markdown",
   "id": "92ec725b",
   "metadata": {},
   "source": [
    "Question 6"
   ]
  },
  {
   "cell_type": "code",
   "execution_count": 1,
   "id": "7a3464a8",
   "metadata": {},
   "outputs": [],
   "source": [
    "#cosine measure is not a metric because when it is applied to vectors it takes advantage of cosine of the angle between vectors\n",
    "#x and y in the p-dimensional variable space."
   ]
  }
 ],
 "metadata": {
  "kernelspec": {
   "display_name": "Python 3 (ipykernel)",
   "language": "python",
   "name": "python3"
  },
  "language_info": {
   "codemirror_mode": {
    "name": "ipython",
    "version": 3
   },
   "file_extension": ".py",
   "mimetype": "text/x-python",
   "name": "python",
   "nbconvert_exporter": "python",
   "pygments_lexer": "ipython3",
   "version": "3.11.5"
  }
 },
 "nbformat": 4,
 "nbformat_minor": 5
}
